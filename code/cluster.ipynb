{
 "metadata": {
  "language_info": {
   "codemirror_mode": {
    "name": "ipython",
    "version": 3
   },
   "file_extension": ".py",
   "mimetype": "text/x-python",
   "name": "python",
   "nbconvert_exporter": "python",
   "pygments_lexer": "ipython3",
   "version": "3.8.5-final"
  },
  "orig_nbformat": 2,
  "kernelspec": {
   "name": "python3",
   "display_name": "Python 3"
  }
 },
 "nbformat": 4,
 "nbformat_minor": 2,
 "cells": [
  {
   "cell_type": "code",
   "execution_count": 4,
   "metadata": {},
   "outputs": [],
   "source": [
    "import numpy as np\n",
    "import pandas as pd\n",
    "import faiss\n",
    "import time\n",
    "from sklearn.cluster import KMeans\n",
    "from collections import defaultdict"
   ]
  },
  {
   "cell_type": "code",
   "execution_count": 20,
   "metadata": {},
   "outputs": [],
   "source": [
    "# 这个应该是未经训练的roberta直接输出的结果\n",
    "res = np.load('./res.npy')"
   ]
  },
  {
   "cell_type": "code",
   "execution_count": 21,
   "metadata": {},
   "outputs": [],
   "source": [
    "s = res.reshape(1786279,1024)"
   ]
  },
  {
   "source": [
    "## sklearn\n",
    "非常慢"
   ],
   "cell_type": "markdown",
   "metadata": {}
  },
  {
   "cell_type": "code",
   "execution_count": null,
   "metadata": {},
   "outputs": [],
   "source": [
    "kmeans = KMeans(n_clusters=135,random_state=0).fit(s)\n",
    "center = kmeans.cluster_centers_\n",
    "np.save('./data/bert_center.npy',center)"
   ]
  },
  {
   "source": [
    "## faiss \n",
    "又快得害怕"
   ],
   "cell_type": "markdown",
   "metadata": {}
  },
  {
   "cell_type": "code",
   "execution_count": 4,
   "metadata": {},
   "outputs": [],
   "source": [
    "n_center = 135\n",
    "niter = 100\n",
    "d=1024"
   ]
  },
  {
   "cell_type": "code",
   "execution_count": 13,
   "metadata": {},
   "outputs": [
    {
     "output_type": "error",
     "ename": "TypeError",
     "evalue": "in method 'ClusteringParameters_verbose_set', argument 2 of type 'bool'",
     "traceback": [
      "\u001b[0;31m---------------------------------------------------------------------------\u001b[0m",
      "\u001b[0;31mTypeError\u001b[0m                                 Traceback (most recent call last)",
      "\u001b[0;32m<ipython-input-13-8c639d7c9efc>\u001b[0m in \u001b[0;36m<module>\u001b[0;34m\u001b[0m\n\u001b[0;32m----> 1\u001b[0;31m \u001b[0mfkmeans\u001b[0m \u001b[0;34m=\u001b[0m \u001b[0mfaiss\u001b[0m\u001b[0;34m.\u001b[0m\u001b[0mKmeans\u001b[0m\u001b[0;34m(\u001b[0m\u001b[0md\u001b[0m\u001b[0;34m,\u001b[0m\u001b[0mn_center\u001b[0m\u001b[0;34m,\u001b[0m\u001b[0mniter\u001b[0m\u001b[0;34m=\u001b[0m\u001b[0mniter\u001b[0m\u001b[0;34m,\u001b[0m\u001b[0mverbose\u001b[0m \u001b[0;34m=\u001b[0m \u001b[0;36m2\u001b[0m\u001b[0;34m)\u001b[0m\u001b[0;34m\u001b[0m\u001b[0;34m\u001b[0m\u001b[0m\n\u001b[0m",
      "\u001b[0;32m~/anaconda3/envs/torch/lib/python3.8/site-packages/faiss/__init__.py\u001b[0m in \u001b[0;36m__init__\u001b[0;34m(self, d, k, **kwargs)\u001b[0m\n\u001b[1;32m    754\u001b[0m                 \u001b[0;31m# if this raises an exception, it means that it is a non-existent field\u001b[0m\u001b[0;34m\u001b[0m\u001b[0;34m\u001b[0m\u001b[0;34m\u001b[0m\u001b[0m\n\u001b[1;32m    755\u001b[0m                 \u001b[0mgetattr\u001b[0m\u001b[0;34m(\u001b[0m\u001b[0mself\u001b[0m\u001b[0;34m.\u001b[0m\u001b[0mcp\u001b[0m\u001b[0;34m,\u001b[0m \u001b[0mk\u001b[0m\u001b[0;34m)\u001b[0m\u001b[0;34m\u001b[0m\u001b[0;34m\u001b[0m\u001b[0m\n\u001b[0;32m--> 756\u001b[0;31m                 \u001b[0msetattr\u001b[0m\u001b[0;34m(\u001b[0m\u001b[0mself\u001b[0m\u001b[0;34m.\u001b[0m\u001b[0mcp\u001b[0m\u001b[0;34m,\u001b[0m \u001b[0mk\u001b[0m\u001b[0;34m,\u001b[0m \u001b[0mv\u001b[0m\u001b[0;34m)\u001b[0m\u001b[0;34m\u001b[0m\u001b[0;34m\u001b[0m\u001b[0m\n\u001b[0m\u001b[1;32m    757\u001b[0m         \u001b[0mself\u001b[0m\u001b[0;34m.\u001b[0m\u001b[0mcentroids\u001b[0m \u001b[0;34m=\u001b[0m \u001b[0;32mNone\u001b[0m\u001b[0;34m\u001b[0m\u001b[0;34m\u001b[0m\u001b[0m\n\u001b[1;32m    758\u001b[0m \u001b[0;34m\u001b[0m\u001b[0m\n",
      "\u001b[0;32m~/anaconda3/envs/torch/lib/python3.8/site-packages/faiss/swigfaiss_avx2.py\u001b[0m in \u001b[0;36m<lambda>\u001b[0;34m(self, name, value)\u001b[0m\n\u001b[1;32m   1415\u001b[0m \u001b[0;32mclass\u001b[0m \u001b[0mClusteringParameters\u001b[0m\u001b[0;34m(\u001b[0m\u001b[0m_object\u001b[0m\u001b[0;34m)\u001b[0m\u001b[0;34m:\u001b[0m\u001b[0;34m\u001b[0m\u001b[0;34m\u001b[0m\u001b[0m\n\u001b[1;32m   1416\u001b[0m     \u001b[0m__swig_setmethods__\u001b[0m \u001b[0;34m=\u001b[0m \u001b[0;34m{\u001b[0m\u001b[0;34m}\u001b[0m\u001b[0;34m\u001b[0m\u001b[0;34m\u001b[0m\u001b[0m\n\u001b[0;32m-> 1417\u001b[0;31m     \u001b[0m__setattr__\u001b[0m \u001b[0;34m=\u001b[0m \u001b[0;32mlambda\u001b[0m \u001b[0mself\u001b[0m\u001b[0;34m,\u001b[0m \u001b[0mname\u001b[0m\u001b[0;34m,\u001b[0m \u001b[0mvalue\u001b[0m\u001b[0;34m:\u001b[0m \u001b[0m_swig_setattr\u001b[0m\u001b[0;34m(\u001b[0m\u001b[0mself\u001b[0m\u001b[0;34m,\u001b[0m \u001b[0mClusteringParameters\u001b[0m\u001b[0;34m,\u001b[0m \u001b[0mname\u001b[0m\u001b[0;34m,\u001b[0m \u001b[0mvalue\u001b[0m\u001b[0;34m)\u001b[0m\u001b[0;34m\u001b[0m\u001b[0;34m\u001b[0m\u001b[0m\n\u001b[0m\u001b[1;32m   1418\u001b[0m     \u001b[0m__swig_getmethods__\u001b[0m \u001b[0;34m=\u001b[0m \u001b[0;34m{\u001b[0m\u001b[0;34m}\u001b[0m\u001b[0;34m\u001b[0m\u001b[0;34m\u001b[0m\u001b[0m\n\u001b[1;32m   1419\u001b[0m     \u001b[0m__getattr__\u001b[0m \u001b[0;34m=\u001b[0m \u001b[0;32mlambda\u001b[0m \u001b[0mself\u001b[0m\u001b[0;34m,\u001b[0m \u001b[0mname\u001b[0m\u001b[0;34m:\u001b[0m \u001b[0m_swig_getattr\u001b[0m\u001b[0;34m(\u001b[0m\u001b[0mself\u001b[0m\u001b[0;34m,\u001b[0m \u001b[0mClusteringParameters\u001b[0m\u001b[0;34m,\u001b[0m \u001b[0mname\u001b[0m\u001b[0;34m)\u001b[0m\u001b[0;34m\u001b[0m\u001b[0;34m\u001b[0m\u001b[0m\n",
      "\u001b[0;32m~/anaconda3/envs/torch/lib/python3.8/site-packages/faiss/swigfaiss_avx2.py\u001b[0m in \u001b[0;36m_swig_setattr\u001b[0;34m(self, class_type, name, value)\u001b[0m\n\u001b[1;32m     69\u001b[0m \u001b[0;34m\u001b[0m\u001b[0m\n\u001b[1;32m     70\u001b[0m \u001b[0;32mdef\u001b[0m \u001b[0m_swig_setattr\u001b[0m\u001b[0;34m(\u001b[0m\u001b[0mself\u001b[0m\u001b[0;34m,\u001b[0m \u001b[0mclass_type\u001b[0m\u001b[0;34m,\u001b[0m \u001b[0mname\u001b[0m\u001b[0;34m,\u001b[0m \u001b[0mvalue\u001b[0m\u001b[0;34m)\u001b[0m\u001b[0;34m:\u001b[0m\u001b[0;34m\u001b[0m\u001b[0;34m\u001b[0m\u001b[0m\n\u001b[0;32m---> 71\u001b[0;31m     \u001b[0;32mreturn\u001b[0m \u001b[0m_swig_setattr_nondynamic\u001b[0m\u001b[0;34m(\u001b[0m\u001b[0mself\u001b[0m\u001b[0;34m,\u001b[0m \u001b[0mclass_type\u001b[0m\u001b[0;34m,\u001b[0m \u001b[0mname\u001b[0m\u001b[0;34m,\u001b[0m \u001b[0mvalue\u001b[0m\u001b[0;34m,\u001b[0m \u001b[0;36m0\u001b[0m\u001b[0;34m)\u001b[0m\u001b[0;34m\u001b[0m\u001b[0;34m\u001b[0m\u001b[0m\n\u001b[0m\u001b[1;32m     72\u001b[0m \u001b[0;34m\u001b[0m\u001b[0m\n\u001b[1;32m     73\u001b[0m \u001b[0;34m\u001b[0m\u001b[0m\n",
      "\u001b[0;32m~/anaconda3/envs/torch/lib/python3.8/site-packages/faiss/swigfaiss_avx2.py\u001b[0m in \u001b[0;36m_swig_setattr_nondynamic\u001b[0;34m(self, class_type, name, value, static)\u001b[0m\n\u001b[1;32m     58\u001b[0m     \u001b[0mmethod\u001b[0m \u001b[0;34m=\u001b[0m \u001b[0mclass_type\u001b[0m\u001b[0;34m.\u001b[0m\u001b[0m__swig_setmethods__\u001b[0m\u001b[0;34m.\u001b[0m\u001b[0mget\u001b[0m\u001b[0;34m(\u001b[0m\u001b[0mname\u001b[0m\u001b[0;34m,\u001b[0m \u001b[0;32mNone\u001b[0m\u001b[0;34m)\u001b[0m\u001b[0;34m\u001b[0m\u001b[0;34m\u001b[0m\u001b[0m\n\u001b[1;32m     59\u001b[0m     \u001b[0;32mif\u001b[0m \u001b[0mmethod\u001b[0m\u001b[0;34m:\u001b[0m\u001b[0;34m\u001b[0m\u001b[0;34m\u001b[0m\u001b[0m\n\u001b[0;32m---> 60\u001b[0;31m         \u001b[0;32mreturn\u001b[0m \u001b[0mmethod\u001b[0m\u001b[0;34m(\u001b[0m\u001b[0mself\u001b[0m\u001b[0;34m,\u001b[0m \u001b[0mvalue\u001b[0m\u001b[0;34m)\u001b[0m\u001b[0;34m\u001b[0m\u001b[0;34m\u001b[0m\u001b[0m\n\u001b[0m\u001b[1;32m     61\u001b[0m     \u001b[0;32mif\u001b[0m \u001b[0;34m(\u001b[0m\u001b[0;32mnot\u001b[0m \u001b[0mstatic\u001b[0m\u001b[0;34m)\u001b[0m\u001b[0;34m:\u001b[0m\u001b[0;34m\u001b[0m\u001b[0;34m\u001b[0m\u001b[0m\n\u001b[1;32m     62\u001b[0m         \u001b[0;32mif\u001b[0m \u001b[0m_newclass\u001b[0m\u001b[0;34m:\u001b[0m\u001b[0;34m\u001b[0m\u001b[0;34m\u001b[0m\u001b[0m\n",
      "\u001b[0;31mTypeError\u001b[0m: in method 'ClusteringParameters_verbose_set', argument 2 of type 'bool'"
     ]
    }
   ],
   "source": [
    "fkmeans = faiss.Kmeans(d,n_center,niter=niter,verbose = True)"
   ]
  },
  {
   "cell_type": "code",
   "execution_count": 14,
   "metadata": {},
   "outputs": [
    {
     "output_type": "stream",
     "name": "stdout",
     "text": [
      "CPU times: user 1min 15s, sys: 766 ms, total: 1min 16s\nWall time: 4.78 s\n"
     ]
    },
    {
     "output_type": "execute_result",
     "data": {
      "text/plain": [
       "44125.15625"
      ]
     },
     "metadata": {},
     "execution_count": 14
    }
   ],
   "source": [
    "%%time\n",
    "fkmeans.train(s)"
   ]
  },
  {
   "cell_type": "code",
   "execution_count": 2,
   "metadata": {},
   "outputs": [],
   "source": [
    "kaggle = pd.read_json('./kaggle_data/arxiv-metadata-oai-snapshot.json',lines=True)\n",
    "#kaggle.head()"
   ]
  },
  {
   "cell_type": "code",
   "execution_count": 3,
   "metadata": {},
   "outputs": [],
   "source": [
    "label = kaggle['categories'].apply(lambda x : set(x.split()))\n",
    "label = label.to_list()"
   ]
  },
  {
   "cell_type": "code",
   "execution_count": null,
   "metadata": {},
   "outputs": [],
   "source": [
    "#找据数据最近的一个中心，也就是属于那个聚类\n",
    "D, I = fkmeans.search(s,1)"
   ]
  },
  {
   "cell_type": "code",
   "execution_count": 22,
   "metadata": {},
   "outputs": [],
   "source": [
    "index = faiss.IndexFlatL2 (1024)\n",
    "index.add(s)"
   ]
  },
  {
   "cell_type": "code",
   "execution_count": 65,
   "metadata": {},
   "outputs": [],
   "source": [
    "D, I = index.search (fkmeans.centroids, 100)"
   ]
  },
  {
   "cell_type": "code",
   "execution_count": 23,
   "metadata": {},
   "outputs": [],
   "source": [
    "#只找一个的话，应该是它本身了吧\n",
    "D, I = index.search (fkmeans.centroids, 1)"
   ]
  },
  {
   "cell_type": "code",
   "execution_count": 6,
   "metadata": {},
   "outputs": [],
   "source": [
    "#np.save('./kaggle_data/tmp.npy',I)\n",
    "I = np.load('./kaggle_data/tmp.npy')"
   ]
  },
  {
   "cell_type": "code",
   "execution_count": 12,
   "metadata": {},
   "outputs": [],
   "source": [
    "I = list(I)"
   ]
  },
  {
   "cell_type": "code",
   "execution_count": 16,
   "metadata": {},
   "outputs": [
    {
     "output_type": "execute_result",
     "data": {
      "text/plain": [
       "array([1520554])"
      ]
     },
     "metadata": {},
     "execution_count": 16
    }
   ],
   "source": [
    "I[0]"
   ]
  },
  {
   "cell_type": "code",
   "execution_count": 17,
   "metadata": {},
   "outputs": [
    {
     "output_type": "execute_result",
     "data": {
      "text/plain": [
       "{'cond-mat.dis-nn'}"
      ]
     },
     "metadata": {},
     "execution_count": 17
    }
   ],
   "source": [
    "label[int(I[i])]"
   ]
  },
  {
   "cell_type": "code",
   "execution_count": 22,
   "metadata": {},
   "outputs": [],
   "source": [
    "dic = defaultdict(list)\n",
    "for i in range(len(I)):\n",
    "    dic[','.join(list(label[int(I[i])]))].append(int(I[i]))"
   ]
  },
  {
   "cell_type": "code",
   "execution_count": 24,
   "metadata": {},
   "outputs": [
    {
     "output_type": "execute_result",
     "data": {
      "text/plain": [
       "92"
      ]
     },
     "metadata": {},
     "execution_count": 24
    }
   ],
   "source": [
    "len(dic)"
   ]
  },
  {
   "cell_type": "code",
   "execution_count": 25,
   "metadata": {},
   "outputs": [
    {
     "output_type": "execute_result",
     "data": {
      "text/plain": [
       "          id           submitter  \\\n",
       "0  0704.0001      Pavel Nadolsky   \n",
       "1  0704.0002        Louis Theran   \n",
       "2  0704.0003         Hongjun Pan   \n",
       "3  0704.0004        David Callan   \n",
       "4  0704.0005  Alberto Torchinsky   \n",
       "\n",
       "                                             authors  \\\n",
       "0  C. Bal\\'azs, E. L. Berger, P. M. Nadolsky, C.-...   \n",
       "1                    Ileana Streinu and Louis Theran   \n",
       "2                                        Hongjun Pan   \n",
       "3                                       David Callan   \n",
       "4           Wael Abu-Shammala and Alberto Torchinsky   \n",
       "\n",
       "                                               title  \\\n",
       "0  Calculation of prompt diphoton production cros...   \n",
       "1           Sparsity-certifying Graph Decompositions   \n",
       "2  The evolution of the Earth-Moon system based o...   \n",
       "3  A determinant of Stirling cycle numbers counts...   \n",
       "4  From dyadic $\\Lambda_{\\alpha}$ to $\\Lambda_{\\a...   \n",
       "\n",
       "                                  comments  \\\n",
       "0  37 pages, 15 figures; published version   \n",
       "1    To appear in Graphs and Combinatorics   \n",
       "2                      23 pages, 3 figures   \n",
       "3                                 11 pages   \n",
       "4                                     None   \n",
       "\n",
       "                                 journal-ref                         doi  \\\n",
       "0                   Phys.Rev.D76:013009,2007  10.1103/PhysRevD.76.013009   \n",
       "1                                       None                        None   \n",
       "2                                       None                        None   \n",
       "3                                       None                        None   \n",
       "4  Illinois J. Math. 52 (2008) no.2, 681-689                        None   \n",
       "\n",
       "          report-no       categories  \\\n",
       "0  ANL-HEP-PR-07-12           hep-ph   \n",
       "1              None    math.CO cs.CG   \n",
       "2              None   physics.gen-ph   \n",
       "3              None          math.CO   \n",
       "4              None  math.CA math.FA   \n",
       "\n",
       "                                             license  \\\n",
       "0                                               None   \n",
       "1  http://arxiv.org/licenses/nonexclusive-distrib...   \n",
       "2                                               None   \n",
       "3                                               None   \n",
       "4                                               None   \n",
       "\n",
       "                                            abstract  \\\n",
       "0    A fully differential calculation in perturba...   \n",
       "1    We describe a new algorithm, the $(k,\\ell)$-...   \n",
       "2    The evolution of Earth-Moon system is descri...   \n",
       "3    We show that a determinant of Stirling cycle...   \n",
       "4    In this paper we show how to compute the $\\L...   \n",
       "\n",
       "                                            versions update_date  \\\n",
       "0  [{'version': 'v1', 'created': 'Mon, 2 Apr 2007...  2008-11-26   \n",
       "1  [{'version': 'v1', 'created': 'Sat, 31 Mar 200...  2008-12-13   \n",
       "2  [{'version': 'v1', 'created': 'Sun, 1 Apr 2007...  2008-01-13   \n",
       "3  [{'version': 'v1', 'created': 'Sat, 31 Mar 200...  2007-05-23   \n",
       "4  [{'version': 'v1', 'created': 'Mon, 2 Apr 2007...  2013-10-15   \n",
       "\n",
       "                                      authors_parsed  \n",
       "0  [[Balázs, C., ], [Berger, E. L., ], [Nadolsky,...  \n",
       "1           [[Streinu, Ileana, ], [Theran, Louis, ]]  \n",
       "2                                 [[Pan, Hongjun, ]]  \n",
       "3                                [[Callan, David, ]]  \n",
       "4  [[Abu-Shammala, Wael, ], [Torchinsky, Alberto, ]]  "
      ],
      "text/html": "<div>\n<style scoped>\n    .dataframe tbody tr th:only-of-type {\n        vertical-align: middle;\n    }\n\n    .dataframe tbody tr th {\n        vertical-align: top;\n    }\n\n    .dataframe thead th {\n        text-align: right;\n    }\n</style>\n<table border=\"1\" class=\"dataframe\">\n  <thead>\n    <tr style=\"text-align: right;\">\n      <th></th>\n      <th>id</th>\n      <th>submitter</th>\n      <th>authors</th>\n      <th>title</th>\n      <th>comments</th>\n      <th>journal-ref</th>\n      <th>doi</th>\n      <th>report-no</th>\n      <th>categories</th>\n      <th>license</th>\n      <th>abstract</th>\n      <th>versions</th>\n      <th>update_date</th>\n      <th>authors_parsed</th>\n    </tr>\n  </thead>\n  <tbody>\n    <tr>\n      <th>0</th>\n      <td>0704.0001</td>\n      <td>Pavel Nadolsky</td>\n      <td>C. Bal\\'azs, E. L. Berger, P. M. Nadolsky, C.-...</td>\n      <td>Calculation of prompt diphoton production cros...</td>\n      <td>37 pages, 15 figures; published version</td>\n      <td>Phys.Rev.D76:013009,2007</td>\n      <td>10.1103/PhysRevD.76.013009</td>\n      <td>ANL-HEP-PR-07-12</td>\n      <td>hep-ph</td>\n      <td>None</td>\n      <td>A fully differential calculation in perturba...</td>\n      <td>[{'version': 'v1', 'created': 'Mon, 2 Apr 2007...</td>\n      <td>2008-11-26</td>\n      <td>[[Balázs, C., ], [Berger, E. L., ], [Nadolsky,...</td>\n    </tr>\n    <tr>\n      <th>1</th>\n      <td>0704.0002</td>\n      <td>Louis Theran</td>\n      <td>Ileana Streinu and Louis Theran</td>\n      <td>Sparsity-certifying Graph Decompositions</td>\n      <td>To appear in Graphs and Combinatorics</td>\n      <td>None</td>\n      <td>None</td>\n      <td>None</td>\n      <td>math.CO cs.CG</td>\n      <td>http://arxiv.org/licenses/nonexclusive-distrib...</td>\n      <td>We describe a new algorithm, the $(k,\\ell)$-...</td>\n      <td>[{'version': 'v1', 'created': 'Sat, 31 Mar 200...</td>\n      <td>2008-12-13</td>\n      <td>[[Streinu, Ileana, ], [Theran, Louis, ]]</td>\n    </tr>\n    <tr>\n      <th>2</th>\n      <td>0704.0003</td>\n      <td>Hongjun Pan</td>\n      <td>Hongjun Pan</td>\n      <td>The evolution of the Earth-Moon system based o...</td>\n      <td>23 pages, 3 figures</td>\n      <td>None</td>\n      <td>None</td>\n      <td>None</td>\n      <td>physics.gen-ph</td>\n      <td>None</td>\n      <td>The evolution of Earth-Moon system is descri...</td>\n      <td>[{'version': 'v1', 'created': 'Sun, 1 Apr 2007...</td>\n      <td>2008-01-13</td>\n      <td>[[Pan, Hongjun, ]]</td>\n    </tr>\n    <tr>\n      <th>3</th>\n      <td>0704.0004</td>\n      <td>David Callan</td>\n      <td>David Callan</td>\n      <td>A determinant of Stirling cycle numbers counts...</td>\n      <td>11 pages</td>\n      <td>None</td>\n      <td>None</td>\n      <td>None</td>\n      <td>math.CO</td>\n      <td>None</td>\n      <td>We show that a determinant of Stirling cycle...</td>\n      <td>[{'version': 'v1', 'created': 'Sat, 31 Mar 200...</td>\n      <td>2007-05-23</td>\n      <td>[[Callan, David, ]]</td>\n    </tr>\n    <tr>\n      <th>4</th>\n      <td>0704.0005</td>\n      <td>Alberto Torchinsky</td>\n      <td>Wael Abu-Shammala and Alberto Torchinsky</td>\n      <td>From dyadic $\\Lambda_{\\alpha}$ to $\\Lambda_{\\a...</td>\n      <td>None</td>\n      <td>Illinois J. Math. 52 (2008) no.2, 681-689</td>\n      <td>None</td>\n      <td>None</td>\n      <td>math.CA math.FA</td>\n      <td>None</td>\n      <td>In this paper we show how to compute the $\\L...</td>\n      <td>[{'version': 'v1', 'created': 'Mon, 2 Apr 2007...</td>\n      <td>2013-10-15</td>\n      <td>[[Abu-Shammala, Wael, ], [Torchinsky, Alberto, ]]</td>\n    </tr>\n  </tbody>\n</table>\n</div>"
     },
     "metadata": {},
     "execution_count": 25
    }
   ],
   "source": [
    "kaggle.head()"
   ]
  },
  {
   "cell_type": "code",
   "execution_count": 31,
   "metadata": {},
   "outputs": [
    {
     "output_type": "execute_result",
     "data": {
      "text/plain": [
       "'https://arxiv.org/abs/math/0009176'"
      ]
     },
     "metadata": {},
     "execution_count": 31
    }
   ],
   "source": [
    "'https://arxiv.org/abs/'+kaggle.loc[1676474,'id']"
   ]
  },
  {
   "cell_type": "code",
   "execution_count": 33,
   "metadata": {},
   "outputs": [
    {
     "output_type": "execute_result",
     "data": {
      "text/plain": [
       "True"
      ]
     },
     "metadata": {},
     "execution_count": 33
    }
   ],
   "source": [
    "'cs.AI' in dic"
   ]
  },
  {
   "cell_type": "code",
   "execution_count": 23,
   "metadata": {},
   "outputs": [
    {
     "output_type": "execute_result",
     "data": {
      "text/plain": [
       "defaultdict(list,\n",
       "            {'cond-mat.dis-nn': [1520554],\n",
       "             'cond-mat.str-el,cond-mat.quant-gas': [742692],\n",
       "             'math.AP': [778553],\n",
       "             'cond-mat.str-el': [94806, 1500056, 273363, 1155834],\n",
       "             'math.MP,math-ph,math.NA,math.OC': [903617],\n",
       "             'cond-mat.supr-con': [422771, 640102, 1531107],\n",
       "             'nucl-th': [1742978],\n",
       "             'math.MP,math-ph,math.DS': [1670550],\n",
       "             'hep-lat': [386693],\n",
       "             'math.SG,math.DS': [1676474, 1063356],\n",
       "             'math.CA': [795859, 809571, 431535],\n",
       "             'astro-ph.HE,nucl-th': [711051],\n",
       "             'stat.CO': [702885],\n",
       "             'cs.NA,math.NA': [845209],\n",
       "             'math.GR,math.CO': [150894],\n",
       "             'cond-mat.quant-gas': [461962],\n",
       "             'math.MP,math-ph,nlin.SI,hep-th': [1225337],\n",
       "             'cs.CV': [661109, 1366337],\n",
       "             'cs.CR,cs.LG,stat.ML': [1202268],\n",
       "             'physics.optics,quant-ph,cond-mat.stat-mech': [1348011],\n",
       "             'math.CV,math.DG,hep-th': [1680538],\n",
       "             'math.MP,math-ph,physics.plasm-ph': [1670794],\n",
       "             'hep-th,hep-lat,gr-qc,cond-mat.other': [69519],\n",
       "             'astro-ph.SR': [289870, 310405],\n",
       "             'math.DG': [1357106, 960139, 257719],\n",
       "             'gr-qc,hep-th': [280859, 1061693],\n",
       "             'math.NT': [123743, 949604, 900345],\n",
       "             'cond-mat.mes-hall': [1465084,\n",
       "              807826,\n",
       "              1482366,\n",
       "              1525817,\n",
       "              241595,\n",
       "              429140],\n",
       "             'astro-ph.GA': [613781, 733479],\n",
       "             'math.FA': [504978, 655300, 1146030],\n",
       "             'cond-mat.stat-mech': [1461305],\n",
       "             'astro-ph.HE,astro-ph.SR': [948494],\n",
       "             'math.CV,math.PR': [344356],\n",
       "             'quant-ph,cond-mat.mes-hall': [372042],\n",
       "             'math.RT,math.QA': [714526],\n",
       "             'gr-qc,physics.comp-ph': [1297911],\n",
       "             'math.NA': [714074, 557848, 579879],\n",
       "             'cs.SI,cs.IR': [799448],\n",
       "             'math.CO': [1104468, 510277],\n",
       "             'hep-th': [1631710,\n",
       "              792945,\n",
       "              1656757,\n",
       "              1640644,\n",
       "              1649219,\n",
       "              1629488,\n",
       "              162286],\n",
       "             'cs.LG,cs.RO': [760156],\n",
       "             'cs.IT,physics.comp-ph,math.IT,cond-mat.stat-mech': [863373],\n",
       "             'hep-ph': [1575630, 1606113, 1618822, 1574545, 38701],\n",
       "             'cs.CV,cs.LG,cs.MM': [1129297],\n",
       "             'eess.SP': [1160150],\n",
       "             'math.OC': [652720, 484365],\n",
       "             'gr-qc,astro-ph.CO': [1219482],\n",
       "             'math.MP,cs.IT,math.IT,cond-mat.stat-mech,quant-ph,hep-th,math-ph': [629425],\n",
       "             'math.AP,math.PR': [1717066],\n",
       "             'math.NT,math.AG': [1177100],\n",
       "             'cs.DB': [877137],\n",
       "             'nucl-th,hep-ph': [1608972, 1172536],\n",
       "             'physics.data-an,physics.flu-dyn': [239821],\n",
       "             'cs.NA,math.NA,physics.bio-ph,physics.comp-ph': [1253482],\n",
       "             'cond-mat.supr-con,cond-mat.str-el': [81831, 1497323],\n",
       "             'cs.SI,cs.LG,stat.ML': [1256455],\n",
       "             'math.MP,math-ph,math.PR': [1695279],\n",
       "             'cs.IT,math.IT': [458629],\n",
       "             'astro-ph.HE,hep-ph,nucl-th': [887640],\n",
       "             'math.DS': [1697735],\n",
       "             'cond-mat.mtrl-sci,cond-mat.mes-hall': [483698, 495894],\n",
       "             'quant-ph': [691351, 331620, 1781590],\n",
       "             'nucl-th,hep-th': [1735705],\n",
       "             'cs.CV,cs.CL,cs.IR': [957560],\n",
       "             'cs.LG,stat.ML,cs.IT,math.IT,eess.SP,eess.IV': [1211004],\n",
       "             'cs.CV,stat.ML,cs.LG': [790656],\n",
       "             'math.ST,stat.TH': [63441],\n",
       "             'cs.CL': [942656],\n",
       "             'astro-ph.CO': [207712],\n",
       "             'nucl-th,nucl-ex': [875890],\n",
       "             'cond-mat.stat-mech,cond-mat.dis-nn,cond-mat.str-el,cond-mat.mtrl-sci,cond-mat.mes-hall': [1336862],\n",
       "             'astro-ph': [1388490],\n",
       "             'gr-qc': [511236],\n",
       "             'stat.ML,physics.soc-ph,cond-mat.stat-mech': [1299924],\n",
       "             'cond-mat': [1457162],\n",
       "             'cs.CC,cs.LG,eess.SP': [1310618],\n",
       "             'math.AG': [11673],\n",
       "             'stat.ML,cs.LG': [1044640],\n",
       "             'cond-mat.str-el,cond-mat.mes-hall': [1460345],\n",
       "             'astro-ph,hep-ph,hep-th': [72428],\n",
       "             'astro-ph.SR,physics.plasm-ph,physics.flu-dyn': [369175],\n",
       "             'cs.DS,cs.DM': [914882],\n",
       "             'cond-mat.mtrl-sci': [1487657, 1491275],\n",
       "             'cond-mat.stat-mech,quant-ph,physics.atom-ph,cond-mat.quant-gas': [271964],\n",
       "             'hep-lat,hep-ph,hep-ex': [623271],\n",
       "             'stat.ME': [340840],\n",
       "             'nucl-ex': [171070],\n",
       "             'physics.optics': [625149],\n",
       "             'math.CV': [648916],\n",
       "             'astro-ph.HE': [451846],\n",
       "             'math.MP,math-ph,nlin.SI,math.AP': [1724708],\n",
       "             'cs.SY,eess.SY,math.OC': [1328746]})"
      ]
     },
     "metadata": {},
     "execution_count": 23
    }
   ],
   "source": [
    "dic"
   ]
  },
  {
   "source": [
    "## 实验结果\n",
    "下一步作什么实验，需要把数据集分成每条一个样本，再跑一次吗?"
   ],
   "cell_type": "markdown",
   "metadata": {}
  },
  {
   "cell_type": "code",
   "execution_count": 113,
   "metadata": {},
   "outputs": [],
   "source": [
    "ans = [0] * 135\n",
    "for i in range(len(fcenters)):\n",
    "    center = I[i][0]\n",
    "    for j in range(1,100):\n",
    "        index = I[i][j]\n",
    "        if len(label[index] & label[center]) > 0:\n",
    "            ans[i] += 1"
   ]
  },
  {
   "cell_type": "code",
   "execution_count": 115,
   "metadata": {},
   "outputs": [],
   "source": [
    "dic = {}\n",
    "for i in range(len(fcenters)):\n",
    "    center = I[i][0]\n",
    "    for j in range(1,100):\n",
    "        index = I[i][j]\n",
    "        if len(label[index] & label[center]) > 0:\n",
    "            dic[','.join(list(label[center]))] =dic.get(','.join(list(label[center])),0)+ 1"
   ]
  },
  {
   "cell_type": "code",
   "execution_count": 112,
   "metadata": {},
   "outputs": [
    {
     "output_type": "execute_result",
     "data": {
      "text/plain": [
       "91"
      ]
     },
     "metadata": {},
     "execution_count": 112
    }
   ],
   "source": [
    "#小于135因为有些中心的标签是一样的，也许说明了分类不好\n",
    "len(dic)"
   ]
  },
  {
   "cell_type": "code",
   "execution_count": 116,
   "metadata": {},
   "outputs": [
    {
     "output_type": "execute_result",
     "data": {
      "text/plain": [
       "{'cond-mat.dis-nn': 5,\n",
       " 'cond-mat.str-el,cond-mat.quant-gas': 29,\n",
       " 'math.AP': 5,\n",
       " 'cond-mat.str-el': 41,\n",
       " 'math-ph,math.OC,math.NA,math.MP': 16,\n",
       " 'cond-mat.supr-con': 22,\n",
       " 'nucl-th': 24,\n",
       " 'math-ph,math.DS,math.MP': 10,\n",
       " 'hep-lat': 12,\n",
       " 'math.SG,math.DS': 11,\n",
       " 'math.CA': 17,\n",
       " 'nucl-th,astro-ph.HE': 11,\n",
       " 'stat.CO': 5,\n",
       " 'math.CO,math.GR': 7,\n",
       " 'cond-mat.quant-gas': 15,\n",
       " 'math-ph,hep-th,math.MP,nlin.SI': 31,\n",
       " 'cs.CV': 65,\n",
       " 'cs.LG,stat.ML,cs.CR': 34,\n",
       " 'cond-mat.stat-mech,physics.optics,quant-ph': 23,\n",
       " 'hep-th,math.DG,math.CV': 16,\n",
       " 'math-ph,physics.plasm-ph,math.MP': 17,\n",
       " 'hep-th,hep-lat,gr-qc,cond-mat.other': 24,\n",
       " 'astro-ph.SR': 28,\n",
       " 'math.DG': 18,\n",
       " 'hep-th,gr-qc': 64,\n",
       " 'math.NT': 21,\n",
       " 'cond-mat.mes-hall': 131,\n",
       " 'astro-ph.GA': 54,\n",
       " 'math.FA': 30,\n",
       " 'cond-mat.stat-mech': 7,\n",
       " 'astro-ph.SR,astro-ph.HE': 24,\n",
       " 'math.PR,math.CV': 12,\n",
       " 'cond-mat.mes-hall,quant-ph': 31,\n",
       " 'math.QA,math.RT': 5,\n",
       " 'physics.comp-ph,gr-qc': 2,\n",
       " 'math.NA': 30,\n",
       " 'cs.SI,cs.IR': 9,\n",
       " 'math.CO': 27,\n",
       " 'hep-th': 175,\n",
       " 'cs.LG,cs.RO': 49,\n",
       " 'cond-mat.stat-mech,physics.comp-ph,math.IT,cs.IT': 13,\n",
       " 'hep-ph': 143,\n",
       " 'cs.LG,cs.MM,cs.CV': 48,\n",
       " 'eess.SP': 4,\n",
       " 'math.OC': 11,\n",
       " 'astro-ph.CO,gr-qc': 18,\n",
       " 'math.MP,cond-mat.stat-mech,cs.IT,math-ph,hep-th,math.IT,quant-ph': 43,\n",
       " 'math.AP,math.PR': 19,\n",
       " 'math.NT,math.AG': 29,\n",
       " 'cs.DB': 12,\n",
       " 'hep-ph,nucl-th': 44,\n",
       " 'physics.flu-dyn,physics.data-an': 2,\n",
       " 'cs.NA,physics.comp-ph,math.NA,physics.bio-ph': 12,\n",
       " 'cond-mat.str-el,cond-mat.supr-con': 23,\n",
       " 'cs.LG,cs.SI,stat.ML': 32,\n",
       " 'math-ph,math.PR,math.MP': 24,\n",
       " 'math.IT,cs.IT': 1,\n",
       " 'nucl-th,hep-ph,astro-ph.HE': 35,\n",
       " 'math.DS': 4,\n",
       " 'cond-mat.mes-hall,cond-mat.mtrl-sci': 120,\n",
       " 'quant-ph': 30,\n",
       " 'hep-th,nucl-th': 38,\n",
       " 'cs.CL,cs.CV,cs.IR': 69,\n",
       " 'cs.LG,cs.IT,eess.SP,stat.ML,math.IT,eess.IV': 46,\n",
       " 'stat.ML,cs.CV,cs.LG': 85,\n",
       " 'math.ST,stat.TH': 8,\n",
       " 'cs.CL': 16,\n",
       " 'astro-ph.CO': 21,\n",
       " 'nucl-ex,nucl-th': 20,\n",
       " 'cond-mat.dis-nn,cond-mat.stat-mech,cond-mat.mes-hall,cond-mat.str-el,cond-mat.mtrl-sci': 80,\n",
       " 'astro-ph': 45,\n",
       " 'gr-qc': 4,\n",
       " 'cond-mat.stat-mech,physics.soc-ph,stat.ML': 31,\n",
       " 'cond-mat': 6,\n",
       " 'cs.LG,cs.CC,eess.SP': 28,\n",
       " 'math.AG': 15,\n",
       " 'stat.ML,cs.LG': 40,\n",
       " 'cond-mat.mes-hall,cond-mat.str-el': 11,\n",
       " 'hep-th,astro-ph,hep-ph': 9,\n",
       " 'physics.flu-dyn,astro-ph.SR,physics.plasm-ph': 8,\n",
       " 'cs.DM,cs.DS': 3,\n",
       " 'cond-mat.mtrl-sci': 48,\n",
       " 'cond-mat.stat-mech,cond-mat.quant-gas,quant-ph,physics.atom-ph': 38,\n",
       " 'hep-lat,hep-ph,hep-ex': 50,\n",
       " 'stat.ME': 3,\n",
       " 'nucl-ex': 1,\n",
       " 'physics.optics': 37,\n",
       " 'math.CV': 1,\n",
       " 'astro-ph.HE': 8,\n",
       " 'nlin.SI,math.AP,math-ph,math.MP': 23,\n",
       " 'eess.SY,math.OC,cs.SY': 10}"
      ]
     },
     "metadata": {},
     "execution_count": 116
    }
   ],
   "source": [
    "dic"
   ]
  },
  {
   "cell_type": "code",
   "execution_count": 106,
   "metadata": {},
   "outputs": [
    {
     "output_type": "execute_result",
     "data": {
      "text/plain": [
       "{'cond-mat.dis-nn'}"
      ]
     },
     "metadata": {},
     "execution_count": 106
    }
   ],
   "source": [
    "label[1520554]"
   ]
  },
  {
   "cell_type": "code",
   "execution_count": 93,
   "metadata": {},
   "outputs": [],
   "source": [
    "data = kaggle.join(kaggle['categories'].str.split(' ', expand=True).stack().reset_index(level=1, drop=True).rename('label'))"
   ]
  },
  {
   "cell_type": "code",
   "execution_count": 96,
   "metadata": {},
   "outputs": [
    {
     "output_type": "execute_result",
     "data": {
      "text/plain": [
       "19010"
      ]
     },
     "metadata": {},
     "execution_count": 96
    }
   ],
   "source": [
    "from collections import Counter\n",
    "num = Counter(data['label'])\n",
    "num['cond-mat.dis-nn']"
   ]
  },
  {
   "cell_type": "code",
   "execution_count": 97,
   "metadata": {},
   "outputs": [
    {
     "output_type": "execute_result",
     "data": {
      "text/plain": [
       "Counter({'hep-ph': 152987,\n",
       "         'math.CO': 47291,\n",
       "         'cs.CG': 4760,\n",
       "         'physics.gen-ph': 9340,\n",
       "         'math.CA': 17299,\n",
       "         'math.FA': 23023,\n",
       "         'cond-mat.mes-hall': 70585,\n",
       "         'gr-qc': 84540,\n",
       "         'cond-mat.mtrl-sci': 67236,\n",
       "         'astro-ph': 105380,\n",
       "         'math.NT': 30644,\n",
       "         'math.AG': 41249,\n",
       "         'math.AT': 11715,\n",
       "         'hep-th': 140061,\n",
       "         'math.PR': 41387,\n",
       "         'hep-ex': 42712,\n",
       "         'nlin.PS': 7728,\n",
       "         'physics.chem-ph': 14737,\n",
       "         'q-bio.MN': 3048,\n",
       "         'math.NA': 22610,\n",
       "         'cond-mat.str-el': 58397,\n",
       "         'cond-mat.stat-mech': 60019,\n",
       "         'math.RA': 13284,\n",
       "         'physics.optics': 31304,\n",
       "         'physics.comp-ph': 15225,\n",
       "         'q-bio.PE': 8568,\n",
       "         'q-bio.CB': 1752,\n",
       "         'quant-ph': 107734,\n",
       "         'q-bio.QM': 6722,\n",
       "         'hep-lat': 23815,\n",
       "         'nucl-th': 48316,\n",
       "         'math.OA': 10183,\n",
       "         'math.QA': 16101,\n",
       "         'math-ph': 63304,\n",
       "         'math.MP': 63304,\n",
       "         'nlin.CD': 13382,\n",
       "         'physics.plasm-ph': 11606,\n",
       "         'physics.space-ph': 4238,\n",
       "         'nlin.SI': 10115,\n",
       "         'cs.IT': 33452,\n",
       "         'math.IT': 33452,\n",
       "         'cs.NE': 8719,\n",
       "         'cs.AI': 27448,\n",
       "         'physics.ed-ph': 2844,\n",
       "         'math.DG': 33063,\n",
       "         'cond-mat.soft': 31105,\n",
       "         'physics.pop-ph': 1898,\n",
       "         'cs.DS': 16355,\n",
       "         'math.CV': 13065,\n",
       "         'math.DS': 26275,\n",
       "         'physics.soc-ph': 16717,\n",
       "         'nucl-ex': 20994,\n",
       "         'math.RT': 19994,\n",
       "         'cond-mat.other': 13510,\n",
       "         'physics.flu-dyn': 17949,\n",
       "         'physics.data-an': 7767,\n",
       "         'cs.CE': 3894,\n",
       "         'cs.MS': 1522,\n",
       "         'cs.NA': 8513,\n",
       "         'math.GR': 16843,\n",
       "         'cond-mat.supr-con': 35975,\n",
       "         'math.AC': 9881,\n",
       "         'math.SG': 7259,\n",
       "         'cs.CC': 7780,\n",
       "         'math.KT': 4751,\n",
       "         'math.GT': 17984,\n",
       "         'math.AP': 43187,\n",
       "         'physics.class-ph': 6777,\n",
       "         'q-bio.OT': 953,\n",
       "         'physics.bio-ph': 11324,\n",
       "         'q-bio.BM': 4055,\n",
       "         'nlin.CG': 1276,\n",
       "         'cs.DM': 9524,\n",
       "         'cs.LO': 11194,\n",
       "         'cond-mat.dis-nn': 19010,\n",
       "         'math.MG': 8307,\n",
       "         'physics.atom-ph': 16497,\n",
       "         'math.SP': 7481,\n",
       "         'math.ST': 15826,\n",
       "         'stat.TH': 15826,\n",
       "         'physics.ao-ph': 4142,\n",
       "         'physics.ins-det': 15107,\n",
       "         'q-fin.CP': 1485,\n",
       "         'q-fin.PR': 1585,\n",
       "         'physics.geo-ph': 4642,\n",
       "         'q-bio.NC': 6315,\n",
       "         'q-fin.RM': 1533,\n",
       "         'q-bio.SC': 1484,\n",
       "         'astro-ph.HE': 40031,\n",
       "         'math.OC': 28354,\n",
       "         'cs.CR': 15937,\n",
       "         'math.CT': 5964,\n",
       "         'math.LO': 9711,\n",
       "         'cs.NI': 14741,\n",
       "         'q-fin.GN': 2136,\n",
       "         'q-fin.ST': 2609,\n",
       "         'cs.LG': 68409,\n",
       "         'cs.PF': 2463,\n",
       "         'stat.ME': 14858,\n",
       "         'stat.AP': 11095,\n",
       "         'math.GM': 2935,\n",
       "         'physics.atm-clus': 2230,\n",
       "         'cs.SE': 7901,\n",
       "         'physics.acc-ph': 5927,\n",
       "         'math.GN': 3830,\n",
       "         'stat.CO': 5224,\n",
       "         'physics.hist-ph': 3709,\n",
       "         'cs.AR': 1872,\n",
       "         'cs.SC': 1765,\n",
       "         'physics.med-ph': 4014,\n",
       "         'stat.ML': 46086,\n",
       "         'cs.CY': 9069,\n",
       "         'cs.IR': 8458,\n",
       "         'q-bio.GN': 2340,\n",
       "         'cs.CV': 48024,\n",
       "         'math.HO': 2662,\n",
       "         'cs.OH': 1975,\n",
       "         'cs.DB': 5490,\n",
       "         'cs.DL': 3336,\n",
       "         'cs.HC': 6677,\n",
       "         'cs.PL': 5024,\n",
       "         'nlin.AO': 5602,\n",
       "         'cs.GT': 6924,\n",
       "         'cs.DC': 12658,\n",
       "         'cond-mat.quant-gas': 15831,\n",
       "         'cs.MA': 3716,\n",
       "         'cs.CL': 22869,\n",
       "         'q-fin.PM': 1220,\n",
       "         'cs.MM': 2986,\n",
       "         'astro-ph.EP': 19537,\n",
       "         'cs.RO': 11243,\n",
       "         'econ.EM': 1435,\n",
       "         'cs.ET': 2117,\n",
       "         'q-bio.TO': 1610,\n",
       "         'cs.GL': 198,\n",
       "         'astro-ph.SR': 44815,\n",
       "         'astro-ph.CO': 52491,\n",
       "         'cs.FL': 3319,\n",
       "         'cs.OS': 585,\n",
       "         'q-fin.TR': 1200,\n",
       "         'astro-ph.IM': 18802,\n",
       "         'cs.SD': 4817,\n",
       "         'cs.GR': 2459,\n",
       "         'cs.SY': 13775,\n",
       "         'astro-ph.GA': 43909,\n",
       "         'cs.SI': 12983,\n",
       "         'stat.OT': 858,\n",
       "         'physics.app-ph': 8754,\n",
       "         'econ.TH': 663,\n",
       "         'econ.GN': 1019,\n",
       "         'q-fin.EC': 1588,\n",
       "         'eess.SY': 5326,\n",
       "         'eess.IV': 7998,\n",
       "         'eess.AS': 4299,\n",
       "         'eess.SP': 10856,\n",
       "         'q-fin.MF': 1531,\n",
       "         'acc-phys': 49,\n",
       "         'adap-org': 584,\n",
       "         'q-bio': 1356,\n",
       "         'cond-mat': 14215,\n",
       "         'chao-dyn': 2398,\n",
       "         'patt-sol': 650,\n",
       "         'dg-ga': 732,\n",
       "         'solv-int': 1413,\n",
       "         'bayes-an': 16,\n",
       "         'comp-gas': 221,\n",
       "         'alg-geom': 1423,\n",
       "         'funct-an': 427,\n",
       "         'q-alg': 1578,\n",
       "         'ao-sci': 17,\n",
       "         'atom-ph': 123,\n",
       "         'chem-ph': 251,\n",
       "         'plasm-ph': 38,\n",
       "         'mtrl-th': 262,\n",
       "         'cmp-lg': 894,\n",
       "         'supr-con': 175})"
      ]
     },
     "metadata": {},
     "execution_count": 97
    }
   ],
   "source": [
    "num"
   ]
  },
  {
   "cell_type": "code",
   "execution_count": null,
   "metadata": {},
   "outputs": [],
   "source": []
  }
 ]
}